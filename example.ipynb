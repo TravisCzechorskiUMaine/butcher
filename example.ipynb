{
 "metadata": {
  "name": "Typesetting Math Using MathJax"
 },
 "nbformat": 3,
 "nbformat_minor": 0,
 "worksheets": [
  {
   "cells": [
    {
     "cell_type": "markdown",
     "metadata": {},
     "source": [
      "The Markdown parser included in IPython is MathJax-aware.  This means that you can freely mix in mathematical expressions using the [MathJax subset of Tex and LaTeX](http://docs.mathjax.org/en/latest/tex.html#tex-support).  [Some examples from the MathJax site](http://www.mathjax.org/demos/tex-samples/) are reproduced below, as well as the Markdown+TeX source."
     ]
    },
    {
     "cell_type": "markdown",
     "metadata": {},
     "source": [
      "# Motivating Examples\n",
      "\n",
      "---\n",
      "\n",
      "## The Lorenz Equations\n",
      "### Source\n",
      "```\\begin{aligned}\n",
      "\\dot{x} & = \\sigma(y-x) \\\\\n",
      "\\dot{y} & = \\rho x - y - xz \\\\\n",
      "\\dot{z} & = -\\beta z + xy\n",
      "\\end{aligned}\n",
      "```\n",
      "### Display\n",
      "\\begin{aligned}\n",
      "\\A & = \\begin{bmatrix} [0.19681547722366058, \\ -0.06553542585019845, \\ 0.023770974348220134] \\\\ [0.39442431473908746, \\ 0.29207341166522777, \\ -0.04154875212599763] \\\\ [0.376403062700466, \\ 0.512485826188424, \\ 0.111111111111110] \\end{bmatrix} \\\\\n",
      "\\B & = \\begin{bmatrix} [0.376403062700466, \\ 0.512485826188424, \\ 0.111111111111110] \\end{bmatrix} \\\\\n",
      "\\C & = \\begin{bmatrix} [0.15505102572168228, \\ 0.6449489742783174, \\ 1.0] \\end{bmatrix} \\\\\n",
      "\\A^{-1} & = \\begin{bmatrix} [3.22474487139158, \\ 1.16784008469041, \\ -0.253197264742181] \\\\ [-3.56784008469039, \\ 0.775255128608406, \\ 1.05319726474218] \\\\ [5.53197264742194, \\ -7.53197264742187, \\ 5.00000000000001] \\end{bmatrix} \\\\\n",
      "\\T & = \\begin{bmatrix} [0.0944387624889745, \\ -0.141255295020953, \\ 0.0300291941051473] \\\\ [0.250213122965334, \\ 0.204129352293798, \\ -0.38294211275726] \\\\ [1.0, \\ 1.0, \\ 0.0] \\end{bmatrix} \\\\\n",
      "\\T^{-1} & = \\begin{bmatrix} [4.178718591551935, \\ 0.32768282076106514, \\ 0.5233764454994487] \\\\ [-4.178718591551935, \\ -0.3276828207610649, \\ 0.476623554500551] \\\\ [0.5028726349458223, \\ -2.571926949855616, \\ 0.5960392048282263] \\end{bmatrix} \\\\\n",
      "\\P & = \\begin{bmatrix} [10.048809399827414, \\ -25.62959144707665, \\ 15.580782047249254] \\\\ [-1.38214273316075, \\ 10.29625811374331, \\ -8.914115380582556] \\\\ [0.3333333333333328, \\ -2.6666666666666616, \\ 3.333333333333328] \\end{bmatrix} \\\\\n",
      "\\end{aligned}"
     ]
    },
    {
     "cell_type": "markdown",
     "metadata": {},
     "source": [
      "## The Cauchy-Schwarz Inequality\n",
      "### Source\n",
      "```\\begin{equation*}\n",
      "\\left( \\sum_{k=1}^n a_k b_k \\right)^2 \\leq \\left( \\sum_{k=1}^n a_k^2 \\right) \\left( \\sum_{k=1}^n b_k^2 \\right)\n",
      "\\end{equation*}\n",
      "```\n",
      "### Display\n",
      "\\begin{equation*}\n",
      "\\left( \\sum_{k=1}^n a_k b_k \\right)^2 \\leq \\left( \\sum_{k=1}^n a_k^2 \\right) \\left( \\sum_{k=1}^n b_k^2 \\right)\n",
      "\\end{equation*}"
     ]
    },
    {
     "cell_type": "markdown",
     "metadata": {},
     "source": [
      "## A Cross Product Formula\n",
      "### Source\n",
      "```\\begin{equation*}\n",
      "\\mathbf{V}_1 \\times \\mathbf{V}_2 =  \\begin{vmatrix}\n",
      "\\mathbf{i} & \\mathbf{j} & \\mathbf{k} \\\\\n",
      "\\frac{\\partial X}{\\partial u} &  \\frac{\\partial Y}{\\partial u} & 0 \\\\\n",
      "\\frac{\\partial X}{\\partial v} &  \\frac{\\partial Y}{\\partial v} & 0\n",
      "\\end{vmatrix}  \n",
      "\\end{equation*}\n",
      "```\n",
      "### Display\n",
      "\\begin{equation*}\n",
      "\\mathbf{V}_1 \\times \\mathbf{V}_2 =  \\begin{vmatrix}\n",
      "\\mathbf{i} & \\mathbf{j} & \\mathbf{k} \\\\\n",
      "\\frac{\\partial X}{\\partial u} &  \\frac{\\partial Y}{\\partial u} & 0 \\\\\n",
      "\\frac{\\partial X}{\\partial v} &  \\frac{\\partial Y}{\\partial v} & 0\n",
      "\\end{vmatrix}  \n",
      "\\end{equation*}"
     ]
    },
    {
     "cell_type": "markdown",
     "metadata": {},
     "source": [
      "## The probability of getting \\(k\\) heads when flipping \\(n\\) coins is\n",
      "### Source\n",
      "```\\begin{equation*}\n",
      "P(E)   = {n \\choose k} p^k (1-p)^{ n-k} \n",
      "\\end{equation*}\n",
      "```\n",
      "### Display\n",
      "\\begin{equation*}\n",
      "P(E)   = {n \\choose k} p^k (1-p)^{ n-k} \n",
      "\\end{equation*}"
     ]
    },
    {
     "cell_type": "markdown",
     "metadata": {},
     "source": [
      "## An Identity of Ramanujan\n",
      "### Source\n",
      "```\\begin{equation*}\n",
      "\\frac{1}{\\Bigl(\\sqrt{\\phi \\sqrt{5}}-\\phi\\Bigr) e^{\\frac25 \\pi}} =\n",
      "1+\\frac{e^{-2\\pi}} {1+\\frac{e^{-4\\pi}} {1+\\frac{e^{-6\\pi}}\n",
      "{1+\\frac{e^{-8\\pi}} {1+\\ldots} } } } \n",
      "\\end{equation*}\n",
      "```\n",
      "### Display\n",
      "\\begin{equation*}\n",
      "\\frac{1}{\\Bigl(\\sqrt{\\phi \\sqrt{5}}-\\phi\\Bigr) e^{\\frac25 \\pi}} =\n",
      "1+\\frac{e^{-2\\pi}} {1+\\frac{e^{-4\\pi}} {1+\\frac{e^{-6\\pi}}\n",
      "{1+\\frac{e^{-8\\pi}} {1+\\ldots} } } } \n",
      "\\end{equation*}"
     ]
    },
    {
     "cell_type": "markdown",
     "metadata": {},
     "source": [
      "## A Rogers-Ramanujan Identity\n",
      "### Source\n",
      "```\\begin{equation*}\n",
      "1 +  \\frac{q^2}{(1-q)}+\\frac{q^6}{(1-q)(1-q^2)}+\\cdots =\n",
      "\\prod_{j=0}^{\\infty}\\frac{1}{(1-q^{5j+2})(1-q^{5j+3})},\n",
      "\\quad\\quad \\text{for $|q|<1$}. \n",
      "\\end{equation*}\n",
      "```\n",
      "### Display\n",
      "\\begin{equation*}\n",
      "1 + \\frac{q^2}{(1-q)}+\\frac{q^6}{(1-q)(1-q^2)}+\\cdots =\n",
      "\\prod_{j=0}^{\\infty}\\frac{1}{(1-q^{5j+2})(1-q^{5j+3})},\n",
      "\\quad\\quad \\text{for $|q|<1$}. \n",
      "\\end{equation*}"
     ]
    },
    {
     "cell_type": "markdown",
     "metadata": {},
     "source": [
      "## Maxwell's Equations\n",
      "### Source\n",
      "```\\begin{aligned}\n",
      "\\nabla \\times \\vec{\\mathbf{B}} -\\, \\frac1c\\, \\frac{\\partial\\vec{\\mathbf{E}}}{\\partial t} & = \\frac{4\\pi}{c}\\vec{\\mathbf{j}} \\\\   \\nabla \\cdot \\vec{\\mathbf{E}} & = 4 \\pi \\rho \\\\\n",
      "\\nabla \\times \\vec{\\mathbf{E}}\\, +\\, \\frac1c\\, \\frac{\\partial\\vec{\\mathbf{B}}}{\\partial t} & = \\vec{\\mathbf{0}} \\\\\n",
      "\\nabla \\cdot \\vec{\\mathbf{B}} & = 0 \n",
      "\\end{aligned}\n",
      "```\n",
      "### Display\n",
      "\\begin{aligned}\n",
      "\\nabla \\times \\vec{\\mathbf{B}} -\\, \\frac1c\\, \\frac{\\partial\\vec{\\mathbf{E}}}{\\partial t} & = \\frac{4\\pi}{c}\\vec{\\mathbf{j}} \\\\   \\nabla \\cdot \\vec{\\mathbf{E}} & = 4 \\pi \\rho \\\\\n",
      "\\nabla \\times \\vec{\\mathbf{E}}\\, +\\, \\frac1c\\, \\frac{\\partial\\vec{\\mathbf{B}}}{\\partial t} & = \\vec{\\mathbf{0}} \\\\\n",
      "\\nabla \\cdot \\vec{\\mathbf{B}} & = 0 \n",
      "\\end{aligned}"
     ]
    },
    {
     "cell_type": "markdown",
     "metadata": {},
     "source": [
      "# Equation Numbering and References\n",
      "\n",
      "---\n",
      "\n",
      "Equation numbering and referencing will be available in a future version of IPython."
     ]
    },
    {
     "cell_type": "markdown",
     "metadata": {},
     "source": [
      "# Inline Typesetting (Mixing Markdown and TeX)\n",
      "\n",
      "---\n",
      "\n",
      "While display equations look good for a page of samples, the ability to mix math and *formatted* **text** in a paragraph is also important.\n",
      "\n",
      "## Source\n",
      "``` This expression $\\sqrt{3x-1}+(1+x)^2$ is an example of a TeX inline equation in a **[Markdown-formatted](http://daringfireball.net/projects/markdown/)** sentence.  \n",
      "```\n",
      "## Display\n",
      "This expression $\\sqrt{3x-1}+(1+x)^2$ is an example of a TeX inline equation in a **[Markdown-formatted](http://daringfireball.net/projects/markdown/)** sentence.  "
     ]
    },
    {
     "cell_type": "markdown",
     "metadata": {},
     "source": [
      "# Other Syntax\n",
      "\n",
      "---\n",
      "\n",
      "You will notice in other places on the web that `$$` are needed explicitly to begin and end MathJax typesetting.  This is **not** required if you will be using TeX environments, but the IPython notebook will accept this syntax on legacy notebooks.  \n",
      "\n",
      "### Source\n",
      "```$$\n",
      "\\begin{array}{c}\n",
      "y_1 \\\\\\\n",
      "y_2 \\mathtt{t}_i \\\\\\\n",
      "z_{3,4}\n",
      "\\end{array}\n",
      "$$\n",
      "```\n",
      "\n",
      "```\n",
      "$$\n",
      "\\begin{array}{c}\n",
      "y_1 \\cr\n",
      "y_2 \\mathtt{t}_i \\cr\n",
      "y_{3}\n",
      "\\end{array}\n",
      "$$\n",
      "```\n",
      "\n",
      "```\n",
      "$$\\begin{eqnarray} \n",
      "x' &=& &x \\sin\\phi &+& z \\cos\\phi \\\\\n",
      "z' &=& - &x \\cos\\phi &+& z \\sin\\phi \\\\\n",
      "\\end{eqnarray}$$\n",
      "```\n",
      "\n",
      "```\n",
      "$$\n",
      "x=4\n",
      "$$\n",
      "```\n",
      "\n",
      "### Display\n",
      "$$\n",
      "\\begin{array}{c}\n",
      "y_1 \\\\\\\n",
      "y_2 \\mathtt{t}_i \\\\\\\n",
      "z_{3,4}\n",
      "\\end{array}\n",
      "$$\n",
      "\n",
      "$$\n",
      "\\begin{array}{c}\n",
      "y_1 \\cr\n",
      "y_2 \\mathtt{t}_i \\cr\n",
      "y_{3}\n",
      "\\end{array}\n",
      "$$\n",
      "\n",
      "$$\\begin{eqnarray} \n",
      "x' &=& &x \\sin\\phi &+& z \\cos\\phi \\\\\n",
      "z' &=& - &x \\cos\\phi &+& z \\sin\\phi \\\\\n",
      "\\end{eqnarray}$$\n",
      "\n",
      "$$\n",
      "x=4\n",
      "$$"
     ]
    }
   ],
   "metadata": {}
  }
 ]
}
